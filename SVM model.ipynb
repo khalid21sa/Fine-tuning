{
 "cells": [
  {
   "cell_type": "code",
   "execution_count": null,
   "id": "cdbdd879",
   "metadata": {},
   "outputs": [],
   "source": [
    "import numpy as np\n",
    "import pandas as pd\n",
    "from sklearn.feature_extraction.text import TfidfVectorizer\n",
    "from sklearn.model_selection import train_test_split\n",
    "from sklearn.metrics import f1_score, accuracy_score\n",
    "from libsvm.svmutil import *\n",
    "\n",
    "#load dataset\n",
    "df = pd.read_csv(\"dataset.csv\")\n",
    "#extract text and lables\n",
    "df.dropna(subset=['Toxicity'], inplace=True)\n",
    "texts = df['Comment'].astype(str).tolist()\n",
    "labels = df['Toxicity'].tolist()\n",
    "\n",
    "# Split data\n",
    "X_train_texts, X_test_texts, y_train, y_test = train_test_split(texts, labels, test_size=0.2, random_state=20)\n",
    "\n",
    "# ----------- Method 1: TF-IDF + LIBSVM -----------\n",
    "print(\"\\n=== TF-IDF + LIBSVM ===\")\n",
    "\n",
    "vectorizer = TfidfVectorizer()\n",
    "X_train_tfidf = vectorizer.fit_transform(X_train_texts)\n",
    "X_test_tfidf = vectorizer.transform(X_test_texts)\n",
    "\n",
    "# Convert to LIBSVM format\n",
    "X_train_tfidf_libsvm = [dict(zip(row.indices + 1, row.data)) for row in X_train_tfidf]\n",
    "X_test_tfidf_libsvm = [dict(zip(row.indices + 1, row.data)) for row in X_test_tfidf]\n",
    "\n",
    "# Train and predict using LIBSVM\n",
    "prob1 = svm_problem(y_train, X_train_tfidf_libsvm)\n",
    "param1 = svm_parameter('-t 0 -c 1')  # Linear kernel\n",
    "model1 = svm_train(prob1, param1)\n",
    "p_label1, _, _ = svm_predict(y_test, X_test_tfidf_libsvm, model1)\n",
    "\n",
    "# Evaluate\n",
    "f1_tfidf = f1_score(y_test, p_label1)\n",
    "acc_tfidf = accuracy_score(y_test, p_label1)\n",
    "print(f\"F1 Score (TF-IDF): {f1_tfidf:.4f}\")\n",
    "print(f\"Accuracy (TF-IDF): {acc_tfidf:.4f}\")"
   ]
  }
 ],
 "metadata": {
  "kernelspec": {
   "display_name": "Python 3 (ipykernel)",
   "language": "python",
   "name": "python3"
  },
  "language_info": {
   "codemirror_mode": {
    "name": "ipython",
    "version": 3
   },
   "file_extension": ".py",
   "mimetype": "text/x-python",
   "name": "python",
   "nbconvert_exporter": "python",
   "pygments_lexer": "ipython3",
   "version": "3.9.13"
  }
 },
 "nbformat": 4,
 "nbformat_minor": 5
}
